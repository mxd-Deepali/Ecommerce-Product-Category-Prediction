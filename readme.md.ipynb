{
 "cells": [
  {
   "cell_type": "markdown",
   "id": "ceb57f4e-3b89-481c-a5a3-c3f3482df4e2",
   "metadata": {},
   "source": [
    "# E-Commerce Product Category Prediction Dashboard\r\n",
    "\r\n",
    "This project combines a machine learning model with a Power BI dashboard to classify e-commerce products into categories based on their textual descriptions.\r\n",
    "\r",
    " Objective\r\n",
    "Build a system that:\r\n",
    "- Predicts the category of a product using its title/description (Text Classification)\r\n",
    "- Visualizes prediction results with confidence levels\r\n",
    "- Flags low-confidence predictions for review\r\n",
    "- Helps stakeholders understand model performance via Power BI\r\n",
    "\r\n",
  
    "- Model Type**: Text Classification \r",
    " **Features**: TF-IDF features extracted from product titles\r\n",
    "- **Output**: \r\n",
    "  - `Predicted Category`\r\n",
    "  - `Prediction_Confidence`\r",
    "  - `Review_Flag` (True if confidence < 0.6)\r\n",
    "\r\n",
    "## Power BI Dashard Highlhts\r\n",
    "- **Bar Chart**: Distribution of prected catories\r\n",
    "- **KPI Card**: AveragDodel confince\r\n",
    "- **Donut Chart**Review Flag ratio\r\n",
    "- **Table View**: Product details with conditional formatting on low-confidence predictions\r\n",
    "- **Histogram**: Confidence bucket distribution (30–50%, 50–70%, 70–90%, >90%)\r\n",
    "\r\n",
   
  
    "## Model Enhancements (Optional)\r\n",
    "- Actual category column can be added to evaluate model accuracy\r\n",
    "- Dashboard can be extended with tooltips and slicers for better interactivity\r\n",
    "\r\n",
   
    "## 📍 Author\r\n",
    "**Deepali **  \r\n",
    "B.Tech ECE, Final Year  \r\n",
    "Passionate about ML, Data Analytics & Visualization  \r\n",
    "🔗 [LinkedIn](https://linkedin.com/in/deepali-makhija-8683a0295)\r\n",
    "\r\n",
    "---\r\n",
    "\r\n"
   ]
  }
 ],
 "metadata": {
  "kernelspec": {
   "display_name": "Python 3 (ipykernel)",
   "language": "python",
   "name": "python3"
  },
  "language_info": {
   "codemirror_mode": {
    "name": "ipython",
    "version": 3
   },
   "file_extension": ".py",
   "mimetype": "text/x-python",
   "name": "python",
   "nbconvert_exporter": "python",
   "pygments_lexer": "ipython3",
   "version": "3.12.4"
  }
 },
 "nbformat": 4,
 "nbformat_minor": 5
}
