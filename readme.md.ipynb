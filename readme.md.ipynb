{
 "cells": [
  {
   "cell_type": "markdown",
   "id": "ceb57f4e-3b89-481c-a5a3-c3f3482df4e2",
   "metadata": {},
   "source": [
    "# E-Commerce Product Category Prediction Dashboard\r\n",
    "\r\n",
    "This project combines a machine learning model with a Power BI dashboard to classify e-commerce products into categories based on their textual descriptions.\r\n",
    "\r",
    " 📌 Objective\r\n",
    "Build a system that:\r\n",
    "- Predicts the category of a product using its title/description (Text Classification)\r\n",
    "- Visualizes prediction results with confidence levels\r\n",
    "- Flags low-confidence predictions for review\r\n",
    "- Helps stakeholders understand model performance via PoweI\r\n",
    "\r\n",
    "## 🧠 Machine Learning Cponent\r\n",
    "- Model Type**: Text Cl Reession)\r",
    " **Features**: TF-IDF features extracted from prodt titl\r\n",
    "- **Otput**: \r\n",
    "  - `PreictedCategory`\r\n",
    "  - `Predition_onfidence`\r",
    "  - `Review_Flag` (True if confice < 0.6)\r\n",
    "\r\n",
    "## 📊 Power BI Dashard Highlhts\r\n",
    "- **Bar Chart**: Distribution of prected catories\r\n",
    "- **KPI Card**: AveragDodel confince\r\n",
    "- **Donut Chart**Review Flaratio\r\n",
    "- **Table View**: Product details with conditional formatting on low-confidence preictions\r\n",
    "- **Histogram**: Confidence bucket distribution (30–50%, 50–70%, 70–90%, >90%)\r\n",
    "\r\n",
    "## 📁 Files Included\r\n",
    "- `ecommerce_with_predictions.csv` – CSV containing original data, predictions, and confidence\r\n",
    "- `PowerBI_Dashboard.pbix` – Power BI report file\r\n",
    "- `Model_Pipeline.ipynb` – Jupyter notebook for training and predicting product categories\r\n",
    "- `README.md` – Project documentation (this file)\r\n",
    "\r\n",
    "## 🧠 Model Enhancements (Optional)\r\n",
    "- Actual category column can be added to evaluate model accuracy\r\n",
    "- Dashboard can be extended with tooltips and slicers for better interactivity\r\n",
    "\r\n",
    "## ✅ How to Use\r\n",
    "1. Clone the repository\r\n",
    "2. Open the notebook `Model_Pipeline.ipynb` and run all cells\r\n",
    "3. Export the predictions as `ecommerce_with_predictions.csv`\r\n",
    "4. Open `PowerBI_Dashboard.pbix` and refresh the data\r\n",
    "5. Explore the visual insights!\r\n",
    "\r\n",
    "## 📍 Author\r\n",
    "**Deepali Makhija**  \r\n",
    "B.Tech ECE, Final Year  \r\n",
    "Passionate about ML, Data Analytics & Visualization  \r\n",
    "🔗 [LinkedIn](https://linkedin.com/in/deepali-makhija-8683a0295)\r\n",
    "\r\n",
    "---\r\n",
    "\r\n"
   ]
  }
 ],
 "metadata": {
  "kernelspec": {
   "display_name": "Python 3 (ipykernel)",
   "language": "python",
   "name": "python3"
  },
  "language_info": {
   "codemirror_mode": {
    "name": "ipython",
    "version": 3
   },
   "file_extension": ".py",
   "mimetype": "text/x-python",
   "name": "python",
   "nbconvert_exporter": "python",
   "pygments_lexer": "ipython3",
   "version": "3.12.4"
  }
 },
 "nbformat": 4,
 "nbformat_minor": 5
}
